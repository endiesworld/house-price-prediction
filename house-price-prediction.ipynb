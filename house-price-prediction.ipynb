{
 "cells": [
  {
   "cell_type": "markdown",
   "source": [
    "# Choose a data source, and import the data source and other tools you will require.\r\n",
    "# Data source for this project is from scikit-learn dataset(load_boston), \r\n",
    "# for starters, numpy seems to be a tool that will/must be required for data operation\r\n",
    "# Choose and import a choice model from sklearn, which will be used for prediction: for this project I shall be using linear regression"
   ],
   "metadata": {}
  },
  {
   "cell_type": "code",
   "execution_count": 26,
   "source": [
    "\r\n",
    "# import and load data source\r\n",
    "from sklearn.datasets import load_boston\r\n",
    "from sklearn.model_selection import train_test_split\r\n",
    "\r\n",
    "X, y = load_boston(return_X_y=True)\r\n",
    "\r\n",
    "X_shape = X.shape \r\n",
    "print(f'the shape of data is: {X_shape}')\r\n",
    "\r\n",
    "# Split the data into Training and test data set \r\n",
    "# test_size in float represent the proportion of the data set to assign to the test data set.\r\n",
    "# train_test_split() as used below selects values for training and testing data set randomly.\r\n",
    "training_features, testing_features, training_labels, testing_labels = train_test_split(\r\n",
    "    X, y, test_size=0.33)\r\n",
    "\r\n",
    "print(f'the shape of the training data set is: {training_features.shape}')\r\n",
    "\r\n",
    "# view the features of the first TEN houses in the training data\r\n",
    "for i in range(2):\r\n",
    "    print(f'the values in the X[{i}] element of X are: {training_features[i]}')\r\n",
    "\r\n"
   ],
   "outputs": [
    {
     "output_type": "stream",
     "name": "stdout",
     "text": [
      "the shape of data is: (506, 13)\n",
      "the shape of the training data set is: (339, 13)\n",
      "the values in the X[0] element of X are: [  9.33889   0.       18.1       0.        0.679     6.38     95.6\n",
      "   1.9682   24.      666.       20.2      60.72     24.08   ]\n",
      "the values in the X[1] element of X are: [1.0574e-01 0.0000e+00 2.7740e+01 0.0000e+00 6.0900e-01 5.9830e+00\n",
      " 9.8800e+01 1.8681e+00 4.0000e+00 7.1100e+02 2.0100e+01 3.9011e+02\n",
      " 1.8070e+01]\n"
     ]
    }
   ],
   "metadata": {}
  },
  {
   "cell_type": "code",
   "execution_count": 31,
   "source": [
    "# Feature extraction: Select a feature(@index-4) from data available ()\r\n",
    "\r\n",
    "import numpy as np\r\n",
    "\r\n",
    "training_feature_1 = training_features[:, np.newaxis, 4]\r\n",
    "testing_feature_1 = testing_features[:, np.newaxis, 4]\r\n",
    "\r\n",
    "print(f'the shape of training feature data set is: {training_feature_1.shape}')\r\n",
    "print(f'the shape of testing feature data set is: {testing_feature_1.shape}')\r\n",
    "print(\r\n",
    "    f'First TWO  values for the selected feature are: {training_feature_1[0: 2]}')\r\n"
   ],
   "outputs": [
    {
     "output_type": "stream",
     "name": "stdout",
     "text": [
      "the shape of training feature data set is: (339, 1)\n",
      "the shape of testing feature data set is: (167, 1)\n",
      "First TWO  values for the selected feature are: [[0.679]\n",
      " [0.609]]\n"
     ]
    }
   ],
   "metadata": {}
  },
  {
   "cell_type": "code",
   "execution_count": null,
   "source": [
    "# choose a model and import same from sklearn \r\n",
    "from sklearn.linear_model import LinearRegression\r\n",
    "model_1 = LinearRegression()\r\n",
    "\r\n",
    "# Train the model using the training feature data with their corresponding target\r\n",
    "model_1.fit(training_feature_1, training_labels)\r\n",
    "\r\n",
    "# Test the model\r\n",
    "\r\n",
    "predict_labels = model_1.predict(testing_feature_1)\r\n"
   ],
   "outputs": [],
   "metadata": {}
  },
  {
   "cell_type": "code",
   "execution_count": null,
   "source": [
    "\r\n",
    "\r\n"
   ],
   "outputs": [],
   "metadata": {}
  }
 ],
 "metadata": {
  "orig_nbformat": 4,
  "language_info": {
   "name": "python",
   "version": "3.9.1",
   "mimetype": "text/x-python",
   "codemirror_mode": {
    "name": "ipython",
    "version": 3
   },
   "pygments_lexer": "ipython3",
   "nbconvert_exporter": "python",
   "file_extension": ".py"
  },
  "kernelspec": {
   "name": "python3",
   "display_name": "Python 3.9.1 64-bit"
  },
  "interpreter": {
   "hash": "63fd5069d213b44bf678585dea6b12cceca9941eaf7f819626cde1f2670de90d"
  }
 },
 "nbformat": 4,
 "nbformat_minor": 2
}